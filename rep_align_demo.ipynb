{
 "cells": [
  {
   "cell_type": "code",
   "execution_count": 1,
   "metadata": {},
   "outputs": [],
   "source": [
    "import torch\n",
    "import torchvision\n",
    "import torchvision.transforms as T\n",
    "import matplotlib.pyplot as plt\n",
    "import torch.nn as nn\n",
    "import torch.nn.functional as F\n",
    "import numpy as np"
   ]
  },
  {
   "cell_type": "markdown",
   "metadata": {},
   "source": [
    "### Preparing the Data"
   ]
  },
  {
   "cell_type": "code",
   "execution_count": 2,
   "metadata": {},
   "outputs": [],
   "source": [
    "transform=T.Compose([T.ToTensor(), T.Normalize((0.5, 0.5, 0.5), (0.5, 0.5, 0.5))])\n",
    "train_dataset = torchvision.datasets.CIFAR10(root='../data', train=True, transform=transform)"
   ]
  },
  {
   "cell_type": "code",
   "execution_count": 3,
   "metadata": {},
   "outputs": [],
   "source": [
    "def binary_clf_dataset(data, labels, neg_class=0, pos_class=1, size=1000, seed=0):\n",
    "    rng = torch.Generator()\n",
    "    rng.manual_seed(seed)\n",
    "    labels_tensor = torch.Tensor(labels).long()\n",
    "    mask = torch.zeros(labels_tensor.shape, dtype=torch.bool)\n",
    "    idx = torch.nonzero(labels_tensor == neg_class)[:, 0]\n",
    "    idx = idx[torch.randperm(len(idx), generator=rng)[:size//2]]\n",
    "    mask[idx] = True\n",
    "    idx = torch.nonzero(labels_tensor == pos_class)[:, 0]\n",
    "    idx = idx[torch.randperm(len(idx), generator=rng)[:size//2]]\n",
    "    mask[idx] = True\n",
    "    binary_labels = labels_tensor[mask]\n",
    "    binary_labels[binary_labels == neg_class] = 0\n",
    "    binary_labels[binary_labels == pos_class] = 1\n",
    "    binary_labels = binary_labels.tolist()\n",
    "    binary_data = data[mask]\n",
    "    return binary_data, binary_labels"
   ]
  },
  {
   "cell_type": "code",
   "execution_count": 4,
   "metadata": {},
   "outputs": [],
   "source": [
    "train_dataset.data, train_dataset.targets = binary_clf_dataset(train_dataset.data, train_dataset.targets)"
   ]
  },
  {
   "cell_type": "code",
   "execution_count": 5,
   "metadata": {},
   "outputs": [
    {
     "name": "stdout",
     "output_type": "stream",
     "text": [
      "dataset size: 1000, number of classes: 2\n"
     ]
    }
   ],
   "source": [
    "print(f'dataset size: {len(train_dataset)}, number of classes: {max(train_dataset.targets)+1}')"
   ]
  },
  {
   "cell_type": "code",
   "execution_count": 6,
   "metadata": {},
   "outputs": [],
   "source": [
    "train_loader = torch.utils.data.DataLoader(train_dataset, batch_size=64, shuffle=True, num_workers=4)"
   ]
  },
  {
   "cell_type": "markdown",
   "metadata": {},
   "source": [
    "### Training the Network"
   ]
  },
  {
   "cell_type": "code",
   "execution_count": 7,
   "metadata": {},
   "outputs": [],
   "source": [
    "seed = 0\n",
    "torch.manual_seed(seed)\n",
    "torch.cuda.manual_seed(seed)\n",
    "torch.backends.cudnn.deterministic = True\n",
    "torch.backends.cudnn.benchmark = True"
   ]
  },
  {
   "cell_type": "code",
   "execution_count": 8,
   "metadata": {},
   "outputs": [
    {
     "name": "stdout",
     "output_type": "stream",
     "text": [
      "Sequential(\n",
      "  (0): Flatten(start_dim=1, end_dim=-1)\n",
      "  (1): Linear(in_features=3072, out_features=128, bias=False)\n",
      "  (2): ReLU()\n",
      "  (3): Linear(in_features=128, out_features=128, bias=False)\n",
      "  (4): ReLU()\n",
      "  (5): Linear(in_features=128, out_features=128, bias=False)\n",
      "  (6): ReLU()\n",
      "  (7): Linear(in_features=128, out_features=1, bias=True)\n",
      ")\n"
     ]
    }
   ],
   "source": [
    "# Play around with the network's architecture. Change the depth, width, activation, etc..\n",
    "# For example try linear activation by replacing nn.ReLU() with nn.Identity().\n",
    "model = nn.Sequential(\n",
    "    nn.Flatten(),\n",
    "    nn.Linear(32*32*3, 128, bias=False),\n",
    "    nn.ReLU(),\n",
    "    nn.Linear(128, 128, bias=False),\n",
    "    nn.ReLU(),\n",
    "    nn.Linear(128, 128, bias=False),\n",
    "    nn.ReLU(),\n",
    "    nn.Linear(128, 1))\n",
    "print(model)"
   ]
  },
  {
   "cell_type": "code",
   "execution_count": 9,
   "metadata": {},
   "outputs": [],
   "source": [
    "critertion = nn.BCEWithLogitsLoss()\n",
    "optimizer = torch.optim.Adam(model.parameters(), lr=0.001)"
   ]
  },
  {
   "cell_type": "code",
   "execution_count": 10,
   "metadata": {},
   "outputs": [
    {
     "name": "stdout",
     "output_type": "stream",
     "text": [
      "epoch: 9, train loss: 0.055221106857061386\n",
      "epoch: 19, train loss: 0.017858062419691123\n",
      "epoch: 29, train loss: 0.00027390173181629507\n",
      "epoch: 39, train loss: 0.00011177455075994658\n",
      "epoch: 49, train loss: 6.065116349418531e-05\n",
      "epoch: 59, train loss: 3.754453257442947e-05\n",
      "epoch: 69, train loss: 2.5314709887425124e-05\n",
      "epoch: 79, train loss: 1.8092143818648765e-05\n",
      "epoch: 89, train loss: 1.443024348191102e-05\n",
      "epoch: 99, train loss: 1.0185814176111307e-05\n"
     ]
    }
   ],
   "source": [
    "num_epoch = 100\n",
    "model.train()\n",
    "for epoch in range(num_epoch):\n",
    "    train_loss = 0.0\n",
    "    batch_cnt = 0\n",
    "    for batch_X, batch_y in train_loader:\n",
    "        optimizer.zero_grad()\n",
    "        predict = model(batch_X)\n",
    "        loss = critertion(predict, batch_y.float().unsqueeze(1))\n",
    "        loss.backward()\n",
    "        optimizer.step()\n",
    "        train_loss += loss.item()\n",
    "        batch_cnt += 1\n",
    "\n",
    "    if (epoch + 1) % 10 == 0:\n",
    "        print(f'epoch: {epoch}, train loss: {train_loss/batch_cnt}')"
   ]
  },
  {
   "cell_type": "markdown",
   "metadata": {},
   "source": [
    "### Extracting Representations"
   ]
  },
  {
   "cell_type": "code",
   "execution_count": 11,
   "metadata": {},
   "outputs": [
    {
     "name": "stdout",
     "output_type": "stream",
     "text": [
      "['input', '0', '1', '2', '3', '4', '5', '6', '7']\n"
     ]
    }
   ],
   "source": [
    "from torchvision.models.feature_extraction import get_graph_node_names\n",
    "all_nodes, _ = get_graph_node_names(model)\n",
    "# These are all the model's nodes.\n",
    "print(all_nodes)"
   ]
  },
  {
   "cell_type": "code",
   "execution_count": 12,
   "metadata": {},
   "outputs": [],
   "source": [
    "from torchvision.models.feature_extraction import create_feature_extractor\n",
    "# These are the nodes we extract the representations from.\n",
    "# If you change the architecture you may need to change this array.\n",
    "nodes = ['0', '2', '4', '6']\n",
    "model.eval()\n",
    "feature_extractor = create_feature_extractor(model, return_nodes=nodes)"
   ]
  },
  {
   "cell_type": "code",
   "execution_count": 13,
   "metadata": {},
   "outputs": [
    {
     "name": "stdout",
     "output_type": "stream",
     "text": [
      "torch.Size([1000, 3, 32, 32]) torch.Size([1000])\n"
     ]
    }
   ],
   "source": [
    "input_data = []\n",
    "targets = []\n",
    "for batch_X, batch_y in train_loader:\n",
    "    input_data.append(batch_X)\n",
    "    targets.append(batch_y)\n",
    "input_data = torch.vstack(input_data)\n",
    "targets = torch.hstack(targets)\n",
    "print(input_data.shape, targets.shape)"
   ]
  },
  {
   "cell_type": "code",
   "execution_count": 14,
   "metadata": {
    "scrolled": true
   },
   "outputs": [
    {
     "name": "stdout",
     "output_type": "stream",
     "text": [
      "[('0', torch.Size([1000, 3072])), ('2', torch.Size([1000, 128])), ('4', torch.Size([1000, 128])), ('6', torch.Size([1000, 128]))]\n"
     ]
    }
   ],
   "source": [
    "reps = feature_extractor(torch.Tensor(input_data.data))\n",
    "print([(key, rep.shape) for (key, rep) in reps.items()])"
   ]
  },
  {
   "cell_type": "markdown",
   "metadata": {},
   "source": [
    "### Computing Alignment"
   ]
  },
  {
   "cell_type": "code",
   "execution_count": 15,
   "metadata": {},
   "outputs": [],
   "source": [
    "# This function computes the alignment curve efficiently.\n",
    "def get_alignment_curve(dot_products, y, s, grid):\n",
    "    cumu_grid_len = len(grid)-1\n",
    "    cumu = np.zeros(cumu_grid_len+1)\n",
    "    cumu_ind = 0\n",
    "    for s_ind, this_s in enumerate(s):\n",
    "        while grid[cumu_ind] > this_s:\n",
    "            cumu_ind += 1\n",
    "            cumu[cumu_ind] += cumu[cumu_ind-1]\n",
    "        cumu[cumu_ind] += dot_products[s_ind]\n",
    "    cumu[cumu_ind+1:-1] = cumu[cumu_ind]\n",
    "    cumu[-1] = (y**2).sum()\n",
    "    return cumu"
   ]
  },
  {
   "cell_type": "code",
   "execution_count": 16,
   "metadata": {},
   "outputs": [
    {
     "data": {
      "image/png": "[encoded data removed]",
      "text/plain": [
       "<Figure size 432x288 with 1 Axes>"
      ]
     },
     "metadata": {
      "needs_background": "light"
     },
     "output_type": "display_data"
    }
   ],
   "source": [
    "# Creating +-1 label vector\n",
    "y = targets.float() * 2 - 1\n",
    "\n",
    "for key, phi in reps.items():\n",
    "    # Adding a constant 1 feature to account for the bias unit\n",
    "    bias_feature = torch.ones(phi.shape[0], 1).float()\n",
    "    phi_bias = torch.hstack((phi, bias_feature))\n",
    "\n",
    "    # Normalizing each row\n",
    "    phi_norm = phi_bias / torch.linalg.norm(phi_bias, dim=1)[:, None]\n",
    "\n",
    "    u, s, vt = torch.linalg.svd(phi_norm)\n",
    "    dot_products = (u.T @ y)**2\n",
    "    \n",
    "    grid = np.linspace(0, 30, (10+1)*2)[::-1]\n",
    "    alignment_curve = get_alignment_curve(\n",
    "        dot_products.detach().numpy(), y.detach().numpy(), s.detach().numpy(), grid)[::-1]\n",
    "\n",
    "    plt.plot(grid[::-1], alignment_curve, label=key)\n",
    "plt.legend()\n",
    "plt.ylim(ymin=-50)\n",
    "plt.ylabel('Alignment')\n",
    "plt.xlabel('threshold')\n",
    "plt.show()"
   ]
  }
 ],
 "metadata": {
  "kernelspec": {
   "display_name": "Python 3",
   "language": "python",
   "name": "python3"
  },
  "language_info": {
   "codemirror_mode": {
    "name": "ipython",
    "version": 3
   },
   "file_extension": ".py",
   "mimetype": "text/x-python",
   "name": "python",
   "nbconvert_exporter": "python",
   "pygments_lexer": "ipython3",
   "version": "3.6.5"
  }
 },
 "nbformat": 4,
 "nbformat_minor": 2
}
